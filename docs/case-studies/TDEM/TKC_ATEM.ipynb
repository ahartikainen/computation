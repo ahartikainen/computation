{
 "cells": [
  {
   "cell_type": "markdown",
   "metadata": {},
   "source": [
    "# TKC: Airborne Time Domain Electromagnetics\n",
    "\n",
    "In this example, we perform a forward simulation and inversion over a synthetic model of the Tli Kwi Cho Kimberlite Complex in Northern Canada. "
   ]
  },
  {
   "cell_type": "code",
   "execution_count": 1,
   "metadata": {
    "collapsed": true
   },
   "outputs": [],
   "source": [
    "import numpy as np\n",
    "from scipy.constants import mu_0\n",
    "import matplotlib.pyplot as plt\n",
    "import ipywidgets\n",
    "\n",
    "from SimPEG import EM, Mesh, Utils, Maps\n",
    "\n",
    "%matplotlib inline"
   ]
  },
  {
   "cell_type": "code",
   "execution_count": 2,
   "metadata": {
    "collapsed": true
   },
   "outputs": [],
   "source": [
    "# import a solver. If you want to re-run the forward simulation or inversion, \n",
    "# make sure you have pymatsolver (https://github.com/rowanc1/pymatsolver) \n",
    "# installed. The default solverLU will be painfully slow. \n",
    "\n",
    "try:\n",
    "    from pymatsolver import Pardiso as Solver\n",
    "except Exception:\n",
    "    from SimPEG import SolverLU as Solver\n",
    "    print(\n",
    "        'Using the default solver. Install pymatsolver '\n",
    "        'if you want to re-run the forward simulation or inversion'\n",
    "    )"
   ]
  },
  {
   "cell_type": "markdown",
   "metadata": {},
   "source": [
    "## Download synthetic model\n",
    "\n",
    "The vtk surfaces defining the model are stored on the cloud, so first, we download those to a local directory. "
   ]
  },
  {
   "cell_type": "code",
   "execution_count": 3,
   "metadata": {
    "collapsed": false
   },
   "outputs": [
    {
     "name": "stdout",
     "output_type": "stream",
     "text": [
      "overwriting VTKout.dat\n",
      "Downloading https://storage.googleapis.com/simpeg/tkc_synthetic/atem/VTKout.dat\n",
      "Download completed!\n"
     ]
    }
   ],
   "source": [
    "download_dir = './TKC_ATEM/'  # name of the local directory to create and put the files in. \n",
    "\n",
    "root_url = 'https://storage.googleapis.com/simpeg/tkc_synthetic/atem/' \n",
    "files = ['VTKout.dat']\n",
    "urls = [root_url + f for f in files]\n",
    "\n",
    "downloads = Utils.download(url=urls, folder=download_dir, overwrite=True)\n",
    "downloads = dict(zip(['sigma_model'], downloads))  # create a dict"
   ]
  },
  {
   "cell_type": "markdown",
   "metadata": {},
   "source": [
    "## Mesh\n",
    "\n",
    "We define a Tensor Mesh that will be used for the forward simulation and eventually the inversion."
   ]
  },
  {
   "cell_type": "code",
   "execution_count": 4,
   "metadata": {
    "collapsed": false
   },
   "outputs": [
    {
     "name": "stdout",
     "output_type": "stream",
     "text": [
      "  ---- 3-D TensorMesh ----  \n",
      "   x0: -4774.44\n",
      "   y0: -4704.44\n",
      "   z0: -4809.44\n",
      "  nCx: 45\n",
      "  nCy: 41\n",
      "  nCz: 50\n",
      "   hx: 1060.06,  815.43,  627.26,  482.50,  371.16,  285.51,  219.62,  168.94,  129.95,  99.96,  76.89,  59.15,  45.50,  19*35.00,  45.50,  59.15,  76.89,  99.96,  129.95,  168.94,  219.62,  285.51,  371.16,  482.50,  627.26,  815.43,  1060.06,\n",
      "   hy: 1060.06,  815.43,  627.26,  482.50,  371.16,  285.51,  219.62,  168.94,  129.95,  99.96,  76.89,  59.15,  45.50,  15*35.00,  45.50,  59.15,  76.89,  99.96,  129.95,  168.94,  219.62,  285.51,  371.16,  482.50,  627.26,  815.43,  1060.06,\n",
      "   hz: 1060.06,  815.43,  627.26,  482.50,  371.16,  285.51,  219.62,  168.94,  129.95,  99.96,  76.89,  59.15,  45.50,  9*35.00,  6*17.50,  9*35.00,  45.50,  59.15,  76.89,  99.96,  129.95,  168.94,  219.62,  285.51,  371.16,  482.50,  627.26,  815.43,  1060.06,\n"
     ]
    }
   ],
   "source": [
    "cs, npad = 35., 13\n",
    "ncx, ncy = 19, 15\n",
    "nczd, nczu, nczm = 9, 9, 6\n",
    "hx = [(cs,npad, -1.3),(cs,ncx),(cs,npad, 1.3)]\n",
    "hy = [(cs,npad, -1.3),(cs,ncy),(cs,npad, 1.3)]\n",
    "hz = [(cs,npad, -1.3),(cs,nczd), (cs/2,nczm) ,(cs,nczu),(cs,npad, 1.3)]\n",
    "mesh = Mesh.TensorMesh([hx, hy, hz], x0=\"CCC\")\n",
    "xc = 300+5.57e5\n",
    "yc = 600+7.133e6\n",
    "zc = 425.\n",
    "\n",
    "print(mesh)"
   ]
  },
  {
   "cell_type": "markdown",
   "metadata": {},
   "source": [
    "## Plot the model on the mesh\n",
    "\n",
    "The model has been generated from drilling results over TKC. From the vtk surfaces, we then define the model on a cartesian mesh. That is the model that is provided here. We will plot the model."
   ]
  },
  {
   "cell_type": "code",
   "execution_count": 5,
   "metadata": {
    "collapsed": true
   },
   "outputs": [],
   "source": [
    "sigma = mesh.readModelUBC(downloads[\"sigma_model\"])"
   ]
  },
  {
   "cell_type": "markdown",
   "metadata": {},
   "source": [
    "To view the model, we generate two simple plotting functions that can be re-used later. The first plots a cross section through the model, the second plots a plan-view (depth slice). "
   ]
  },
  {
   "cell_type": "code",
   "execution_count": 6,
   "metadata": {
    "collapsed": true
   },
   "outputs": [],
   "source": [
    "# functions for visualizing the model \n",
    "def vizsection(sigma, indy=20, ax=None):\n",
    "    \"\"\"\n",
    "    Plot a cross section of the conductivity model\n",
    "    \"\"\"\n",
    "    if ax is None: \n",
    "        fig, ax = plt.subplots(1, 1, figsize = (5,2.5))\n",
    "    mesh.plotSlice(\n",
    "        np.log10(sigma), ind=indy, grid=True, normal=\"Y\", clim=(-4, -1), ax=ax\n",
    "    )\n",
    "    ax.axis(\"equal\")\n",
    "    ax.set_title((\"Northing at %.1fm\")%(mesh.vectorCCy[indy]))\n",
    "    ax.set_xlabel(\"Easting (m)\")\n",
    "    ax.set_ylabel(\"Northing (m)\")    \n",
    "    ax.set_xlim(-500, 500)\n",
    "    ax.set_ylim(-500, 0)\n",
    "    \n",
    "def vizplan(sigma, indz=21, ax=None):\n",
    "    \"\"\"\n",
    "    Plot a plan view of the conductivity model\n",
    "    \"\"\"\n",
    "    if ax is None: \n",
    "        fig, ax = plt.subplots(1, 1, figsize = (5,5))\n",
    "    mesh.plotSlice(np.log10(sigma), grid=True, ind=indz, clim=(-4, -1), ax=ax)\n",
    "    ax.set_title((\"Elevation at %.1fm\")%(mesh.vectorCCz[indz]))\n",
    "    ax.set_xlabel(\"Easting (m)\")\n",
    "    ax.set_ylabel(\"Northing (m)\")\n",
    "    ax.set_xlim(-500, 500)\n",
    "    ax.set_ylim(-500, 500)"
   ]
  },
  {
   "cell_type": "code",
   "execution_count": 7,
   "metadata": {
    "collapsed": false
   },
   "outputs": [
    {
     "data": {
      "image/png": "[encoded data removed]",
      "text/plain": [
       "<matplotlib.figure.Figure at 0x115625190>"
      ]
     },
     "metadata": {},
     "output_type": "display_data"
    },
    {
     "data": {
      "image/png": "[encoded data removed]",
      "text/plain": [
       "<matplotlib.figure.Figure at 0x10d9651d0>"
      ]
     },
     "metadata": {},
     "output_type": "display_data"
    }
   ],
   "source": [
    "# for plotting, we will turn the air indices to nan's \n",
    "sigma_masked = sigma.copy()\n",
    "\n",
    "airind = (sigma==1e-8)\n",
    "sigma_masked[airind] = np.nan\n",
    "\n",
    "vizplan(sigma_masked)\n",
    "vizsection(sigma_masked)"
   ]
  },
  {
   "cell_type": "markdown",
   "metadata": {},
   "source": [
    "While we are working with the conductivity model, it is handy to know where topography is (later on in the inversion, we will use this to define an active cell model). "
   ]
  },
  {
   "cell_type": "code",
   "execution_count": 8,
   "metadata": {
    "collapsed": true
   },
   "outputs": [],
   "source": [
    "def gettopoCC(mesh, airind):\n",
    "    \"\"\"\n",
    "    Get topography from active indices of mesh.\n",
    "    \"\"\"\n",
    "    mesh2D = Mesh.TensorMesh([mesh.hx, mesh.hy], mesh.x0[:2])\n",
    "    zc = mesh.gridCC[:,2]\n",
    "    AIRIND = airind.reshape((mesh.vnC[0]*mesh.vnC[1],mesh.vnC[2]), order='F')\n",
    "    ZC = zc.reshape((mesh.vnC[0]*mesh.vnC[1], mesh.vnC[2]), order='F')\n",
    "    topo = np.zeros(ZC.shape[0])\n",
    "    topoCC = np.zeros(ZC.shape[0])\n",
    "    for i in range(ZC.shape[0]):\n",
    "        ind  = np.argmax(ZC[i,:][~AIRIND[i,:]])\n",
    "        topo[i] = ZC[i,:][~AIRIND[i,:]].max() + mesh.hz[~AIRIND[i,:]][ind]*0.5\n",
    "        topoCC[i] = ZC[i,:][~AIRIND[i,:]].max()\n",
    "    XY = Utils.ndgrid(mesh.vectorCCx, mesh.vectorCCy)\n",
    "    return mesh2D, topoCC"
   ]
  },
  {
   "cell_type": "markdown",
   "metadata": {},
   "source": [
    "## Survey\n",
    "Now that we have the conductivity model defined, we turn our attention to defining a survey. We start by defining the sounding locations. We take the src / rx height to be z=30m"
   ]
  },
  {
   "cell_type": "code",
   "execution_count": 9,
   "metadata": {
    "collapsed": false
   },
   "outputs": [],
   "source": [
    "# easting\n",
    "x = mesh.vectorCCx[np.logical_and(mesh.vectorCCx>-250., mesh.vectorCCx<250.)]\n",
    "\n",
    "# northing - use slightly wider spacing\n",
    "nskip = 2\n",
    "y = mesh.vectorCCy[np.logical_and(mesh.vectorCCy>-250., mesh.vectorCCy<250.)][::nskip]\n",
    "\n",
    "# height\n",
    "z = np.r_[30.]\n",
    "\n",
    "# grid of locations\n",
    "xyz = Utils.ndgrid(x, y, z)"
   ]
  },
  {
   "cell_type": "markdown",
   "metadata": {},
   "source": [
    "Here, we plot the projection of the sounding locations on a depth slice through the model. "
   ]
  },
  {
   "cell_type": "code",
   "execution_count": 10,
   "metadata": {
    "collapsed": false
   },
   "outputs": [
    {
     "data": {
      "text/plain": [
       "(-400, 400)"
      ]
     },
     "execution_count": 10,
     "metadata": {},
     "output_type": "execute_result"
    },
    {
     "data": {
      "image/png": "[encoded data removed]",
      "text/plain": [
       "<matplotlib.figure.Figure at 0x116b44990>"
      ]
     },
     "metadata": {},
     "output_type": "display_data"
    }
   ],
   "source": [
    "fig, ax = plt.subplots(1, 1, figsize=(5,5))\n",
    "vizplan(sigma_masked, ax=ax)\n",
    "ax.plot(xyz[:,0], xyz[:,1], 'wo', ms=3)\n",
    "ax.set_xlim(-400, 400)\n",
    "ax.set_ylim(-400, 400)"
   ]
  },
  {
   "cell_type": "markdown",
   "metadata": {},
   "source": [
    "Next we create the survey object, for an airborne survey, each source has a single receiver. Here we measure the vertical magnetic field as data and use a step-off waveform for source.  "
   ]
  },
  {
   "cell_type": "code",
   "execution_count": 11,
   "metadata": {
    "collapsed": false
   },
   "outputs": [
    {
     "name": "stdout",
     "output_type": "stream",
     "text": [
      "In this survey, there are 120 soundings\n",
      "There are 10 time channels, and we are sampling the z-component of the b-field\n"
     ]
    }
   ],
   "source": [
    "ntx = xyz.shape[0]\n",
    "srcList = []\n",
    "times = np.logspace(-4, np.log10(2e-3), 10)\n",
    "\n",
    "for itx in range(ntx):\n",
    "    rx = EM.TDEM.Rx.Point_b(xyz[itx,:], times, orientation='z')\n",
    "    src = EM.TDEM.Src.CircularLoop(\n",
    "        [rx], waveform=EM.TDEM.Src.StepOffWaveform(), \n",
    "        loc=xyz[itx,:], radius=13.\n",
    "    )       \n",
    "    srcList.append(src)\n",
    "    \n",
    "print(\n",
    "    'In this survey, there are {nsrc} soundings'.format(\n",
    "        nsrc=len(srcList)\n",
    "    )\n",
    ")\n",
    "print(\n",
    "    'There are {ntimes} time channels, '\n",
    "    'and we are sampling the {comp}-component '\n",
    "    'of the {field}-field'.format(\n",
    "        ntimes = len(times),\n",
    "        comp=rx.projComp,\n",
    "        field=rx.projField\n",
    "    )\n",
    ")"
   ]
  },
  {
   "cell_type": "markdown",
   "metadata": {},
   "source": [
    "## Forward Simulation"
   ]
  },
  {
   "cell_type": "code",
   "execution_count": 12,
   "metadata": {
    "collapsed": false
   },
   "outputs": [],
   "source": [
    "# setup and run the forward simulation \n",
    "timeSteps_fwd = [(1e-5, 5), (1e-4, 10),(5e-4, 10)]\n",
    "\n",
    "survey = EM.TDEM.Survey(srcList)    \n",
    "problem = EM.TDEM.Problem3D_b(\n",
    "    mesh, timeSteps=timeSteps_fwd, verbose=False, \n",
    "    sigmaMap=Maps.IdentityMap(mesh)\n",
    ")\n",
    "problem.pair(survey)\n",
    "problem.Solver = Solver"
   ]
  },
  {
   "cell_type": "markdown",
   "metadata": {},
   "source": [
    "If you have modest compute resources (and a little patience!), uncomment the next line and you can run the simulation. There is also a script  you can download (see: TODO) if you have access to a cluster where SimPEG is installed (see for instructions on installing SimPEG) and run the simulation. "
   ]
  },
  {
   "cell_type": "code",
   "execution_count": 13,
   "metadata": {
    "collapsed": false
   },
   "outputs": [],
   "source": [
    "# %timeit\n",
    "# dpred = survey.dpred(sigma)\n",
    "# TKCATEMexample = {\n",
    "#     \"mesh\": mesh, \"sigma\": sigma, \"xyz\": xyz, \"ntx\": tx,\n",
    "#     \"times\": times, \"timeSteps\": problem.timeSteps, \"dpred\": dpred\n",
    "# }\n",
    "# pickle.dump(\n",
    "#     TKCATEMexample, open(download_dir + \"/TKCATEMfwd.p\", \"wb\" )\n",
    "# )"
   ]
  }
 ],
 "metadata": {
  "kernelspec": {
   "display_name": "Python 2",
   "language": "python",
   "name": "python2"
  },
  "language_info": {
   "codemirror_mode": {
    "name": "ipython",
    "version": 2
   },
   "file_extension": ".py",
   "mimetype": "text/x-python",
   "name": "python",
   "nbconvert_exporter": "python",
   "pygments_lexer": "ipython2",
   "version": "2.7.13"
  }
 },
 "nbformat": 4,
 "nbformat_minor": 2
}
